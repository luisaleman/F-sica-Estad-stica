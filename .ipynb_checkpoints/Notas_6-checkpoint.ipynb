{
 "cells": [
  {
   "cell_type": "markdown",
   "metadata": {},
   "source": [
    "# Distribución estacionaria"
   ]
  },
  {
   "cell_type": "markdown",
   "metadata": {},
   "source": [
    "En el notebook 05, vimos que la distribución de probabilidad $\\mathbf{\\mu}_t$ de una cadena de Markov tiende a acercarse (*converger*), cuando $t \\to \\infty$, a una distribución de probabilidad que podemos denotar $\\mathbf{\\mu}_\\infty$.  [Usaremos la notación $\\mu$ (de \"medida\") para evitar que haya tantos P's.]\n",
    "\n",
    "[1] (i) Escribe la ecuación que gobierna la evolución de $\\mathbf{\\mu}_t$, y de ahí obtén una ecuación para $\\mathbf{\\mu}_\\infty$.\n",
    "\n",
    "\\begin{equation}\n",
    "\\mu_t=P^t\\mu_{0}\n",
    "\\end{equation}\n",
    "Para cuanto $ t\\rightarrow \\infty$\n",
    "\\begin{equation}\n",
    "\\mu_\\infty=\\lim_{t\\rightarrow\\infty}\\mu_t=\\lim_{t\\rightarrow\\infty}P^t\\mu_{0}\n",
    "\\end{equation}\n",
    "\n",
    "\n",
    "(ii) ¿Cómo se relacion $\\mathbf{\\mu}_\\infty$ con la matriz de transición $\\mathsf{P}$ de la cadena?\n",
    "\n",
    "Como se escribió anteriormente en las notas 5, $\\mathbf{\\mu}_\\infty$ corresponderá al eigenvector del eigenvalor mayor, $\\lambda_n=1$., ya que para los demás eigenvalores $\\lambda_i\\leq1$. Esto se debe a que, utilizando una transformación de similaridad, pasando de la matriz $M$ a $M=F^{-1}DF$, donde $F$ se conoce como la matriz modal, que es una matriz compuesta por los eigenvectores, y $D$ la matriz diagonal de los eigenvalores.  Es fácil verificar que se obtiene \n",
    "\\begin{equation}\n",
    "M^N=F^{-1}D^NF=F^{-1}\n",
    "\\begin{pmatrix}\n",
    "  \\lambda_1 &\\cdots & 0 \\\\\n",
    "  \\vdots & \\ddots & \\vdots \\\\\n",
    "  0 & \\cdots & \\lambda_{n} \\\\\n",
    "\\end{pmatrix}^NF=F^{-1}\n",
    "\\begin{pmatrix}\n",
    "  \\lambda_1^N &\\cdots & 0 \\\\\n",
    "  \\vdots & \\ddots & \\vdots \\\\\n",
    "  0 & \\cdots & \\lambda_{n}^N \\\\\n",
    "\\end{pmatrix}F\n",
    "\\end{equation}\n",
    "y por consiguiente, para $\\lambda_i\\leq1$\n",
    "\\begin{equation}\n",
    "\\lim_{t\\rightarrow\\infty}(\\lambda_i)^t\\rightarrow0\n",
    "\\end{equation}\n",
    "dando paso a \n",
    "\\begin{equation}\n",
    "\\mu_\\infty= \n",
    "\\begin{pmatrix}\n",
    "  F^{-1}_{1,1}&\\cdots & F^{-1}_{1,n} \\\\\n",
    "  \\vdots & \\ddots & \\vdots \\\\\n",
    "  F^{-1}_{n,1}&\\cdots & F^{-1}_{n,n} \\\\\n",
    "\\end{pmatrix} \n",
    "\\begin{pmatrix}\n",
    "  0&\\cdots & 0 \\\\\n",
    "  \\vdots & \\ddots & \\vdots \\\\\n",
    "  0&\\cdots & 1 \\\\\n",
    "\\end{pmatrix}\n",
    "\\begin{pmatrix}\n",
    "  F_{1,1}&\\cdots & F_{1,n} \\\\\n",
    "  \\vdots & \\ddots & \\vdots \\\\\n",
    "  F_{n,1}&\\cdots & F_{n,n} \\\\\n",
    "\\end{pmatrix} \\mu_0=\n",
    "\\begin{pmatrix}\n",
    "  F^{-1}_{1,1}&\\cdots & F^{-1}_{1,n} \\\\\n",
    "  \\vdots & \\ddots & \\vdots \\\\\n",
    "  F^{-1}_{n,1}&\\cdots & F^{-1}_{n,n} \\\\\n",
    "\\end{pmatrix} \n",
    "\\begin{pmatrix}\n",
    "  0&\\cdots & 0 \\\\\n",
    "  \\vdots & \\ddots & \\vdots \\\\\n",
    "  F_{n,1}&\\cdots & F_{n,n} \\\\\n",
    "\\end{pmatrix}\\mu_0\n",
    "\\end{equation}\n",
    "\n",
    "que la segunda matriz multiplicada por $\\mu_0$ es la proyección de dicho estado en el eigenvector que no se anuló, y luego, la multiplicación por la primer matríz será el regreso de dicha proyección al sistema coordenado original.\n",
    "Por ello, $\\mathbf{\\mu}_\\infty$ será el eigenvector correspondiente a dicho eigenvalor.\n",
    "\n",
    "(iii) Demuestra que si empezamos con la distribución $\\mathbf{\\mu}_\\infty$, la distribución a cualquier tiempo será la misma. \n",
    "\n",
    "Supongamos que iniciamos con $\\mathbf{\\mu}_\\infty$, por lo que para un tiempo $t$ tendremos\n",
    "\\begin{equation}\n",
    "\\mu_t=F^t\\mu_{\\infty}\n",
    "\\end{equation}\n",
    "ahora, utilizando lo encontrado para el estado a tiempo infinito, podemos suponer que ese mismo viene de otro arbitrario $\\mu_0'$, es decir\n",
    "\\begin{equation}\n",
    "\\forall t ~~~~~~~ \\mu_t=P^t\\mu_{\\infty}=\\lim_{N\\rightarrow \\infty}(F^{-1}D^tF)(F^{-1}D^NF)\\mu_0'=\\lim_{N\\rightarrow \\infty}F^{-1}D^{N+t}F\\mu_0'=\\mu_{\\infty} \n",
    "\\end{equation}\n",
    "\n",
    "Esto era evidente, ya que como se mencionó antes, $\\mu_\\infty$ es un eigenvector, por lo que no importa si se le aplica $t$ veces $P$, siempre regresa al mismo estado (su eigenvalor es 1).\n",
    "\n",
    "(iv) Debido a ello, llamamos a $\\mathbf{\\mu}_\\infty$ una *distribución estacionaria* de la cadena. se puede demostrar que existe y es única si la cadena satisface dos propiedades técnicas, que sea *aperiódica* e *irreducible*.\n",
    "\n",
    "Busca y explica estas dos propiedades de una cadena de Markov."
   ]
  },
  {
   "cell_type": "markdown",
   "metadata": {},
   "source": [
    "[2] Dada una matriz de transición $\\mathsf{P}$, ¿cómo podemos calcular de forma numérica la distribución estacionaria correspondiente?\n",
    "\n",
    "Aplicando $N$ veces la matriz de transición $\\mathsf{P}$, donde el número de veces, $N$, dependerá de la precisión, $\\epsilon$, que se solicite en el cambio entre estados a cada paso:\n",
    "\\begin{equation}\n",
    "N(\\epsilon) ~~~ | ~~~ \\mu_N-\\mu_{N-1}<\\epsilon\n",
    "\\end{equation}"
   ]
  },
  {
   "cell_type": "markdown",
   "metadata": {},
   "source": [
    "[3] Reescribe la expresión de estacionariedad para un estado dado, $i$, de la cadena. Interpreta esta expresión físicamente. Esta propiedad se llama *balance*."
   ]
  },
  {
   "cell_type": "markdown",
   "metadata": {},
   "source": [
    "[4] ¿Qué tan rápido convergerá una cadena de Markov a distribución estacionaria?"
   ]
  },
  {
   "cell_type": "markdown",
   "metadata": {},
   "source": [
    "# Hacia MCMC: Markov Chain Monte Carlo"
   ]
  },
  {
   "cell_type": "markdown",
   "metadata": {},
   "source": [
    "En el resto del curso, estaremos ocupados con una pregunta distinta:\n",
    "\n",
    "*Dada* una distribución de probabilidad $\\pi$ sobre un conjunto $S := \\{s_1, \\ldots, s_k\\}$, ¿cómo podríamos *diseñar* un proceso estocástico tal que tenga la distribución $\\pi$, y así *simular* el sistema con la distribución requerida?"
   ]
  },
  {
   "cell_type": "code",
   "execution_count": null,
   "metadata": {
    "collapsed": true
   },
   "outputs": [],
   "source": []
  }
 ],
 "metadata": {
  "kernelspec": {
   "display_name": "Julia 0.4.0-dev",
   "language": "julia",
   "name": "julia 0.4"
  },
  "language_info": {
   "name": "julia",
   "version": "0.4.0"
  }
 },
 "nbformat": 4,
 "nbformat_minor": 0
}
