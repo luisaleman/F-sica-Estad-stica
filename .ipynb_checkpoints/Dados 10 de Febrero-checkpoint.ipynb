{
 "metadata": {
  "language": "Julia",
  "name": "",
  "signature": "sha256:7d0383ba8a8b080769e87486badb080aac51fa5a3cd98b0d8f4f0f824439d521"
 },
 "nbformat": 3,
 "nbformat_minor": 0,
 "worksheets": [
  {
   "cells": [
    {
     "cell_type": "heading",
     "level": 1,
     "metadata": {},
     "source": [
      "10 de Febrero"
     ]
    },
    {
     "cell_type": "code",
     "collapsed": false,
     "input": [
      "rand(1:6)"
     ],
     "language": "python",
     "metadata": {},
     "outputs": [
      {
       "metadata": {},
       "output_type": "pyout",
       "prompt_number": 59,
       "text": [
        "6"
       ]
      }
     ],
     "prompt_number": 59
    },
    {
     "cell_type": "code",
     "collapsed": false,
     "input": [
      "using PyPlot"
     ],
     "language": "python",
     "metadata": {},
     "outputs": [],
     "prompt_number": 60
    },
    {
     "cell_type": "code",
     "collapsed": false,
     "input": [
      "function dado(num_caras)\n",
      "    int(rand(1:num_caras))\n",
      "end"
     ],
     "language": "python",
     "metadata": {},
     "outputs": [
      {
       "metadata": {},
       "output_type": "pyout",
       "prompt_number": 61,
       "text": [
        "dado (generic function with 2 methods)"
       ]
      }
     ],
     "prompt_number": 61
    },
    {
     "cell_type": "code",
     "collapsed": false,
     "input": [
      "function dado(num_caras,num_tiros)\n",
      "    int(rand(1:num_caras,num_tiros))\n",
      "end"
     ],
     "language": "python",
     "metadata": {},
     "outputs": [
      {
       "metadata": {},
       "output_type": "pyout",
       "prompt_number": 62,
       "text": [
        "dado (generic function with 2 methods)"
       ]
      }
     ],
     "prompt_number": 62
    },
    {
     "cell_type": "code",
     "collapsed": false,
     "input": [
      "tiros=1000\n",
      "num_caras=4\n",
      "Times=zeros(num_caras)\n",
      "for i in 1:tiros\n",
      "    Times[dado(num_caras)]+=1\n",
      "end\n",
      "Times/=sum(Times)\n",
      "plot(1:num_caras,Times,\"go-\")\n",
      "ylim(0,1)\n",
      "xlim(0,num_caras+1)\n",
      "xlabel(\"cara\")\n",
      "ylabel(\"probabilidad\")"
     ],
     "language": "python",
     "metadata": {},
     "outputs": [
      {
       "metadata": {},
       "output_type": "display_data",
       "png": "[encoded data removed]",
       "text": [
        "PyPlot.Figure(PyObject <matplotlib.figure.Figure object at 0x3169c4390>)"
       ]
      },
      {
       "metadata": {},
       "output_type": "pyout",
       "prompt_number": 90,
       "text": [
        "PyObject <matplotlib.text.Text object at 0x317542710>"
       ]
      }
     ],
     "prompt_number": 90
    },
    {
     "cell_type": "code",
     "collapsed": false,
     "input": [
      "dado(2,10)"
     ],
     "language": "python",
     "metadata": {},
     "outputs": [
      {
       "metadata": {},
       "output_type": "pyout",
       "prompt_number": 64,
       "text": [
        "10-element Array{Int64,1}:\n",
        " 2\n",
        " 1\n",
        " 2\n",
        " 2\n",
        " 2\n",
        " 1\n",
        " 2\n",
        " 1\n",
        " 1\n",
        " 2"
       ]
      }
     ],
     "prompt_number": 64
    },
    {
     "cell_type": "code",
     "collapsed": false,
     "input": [
      "==="
     ],
     "language": "python",
     "metadata": {},
     "outputs": [
      {
       "metadata": {},
       "output_type": "pyout",
       "prompt_number": 65,
       "text": [
        "is"
       ]
      }
     ],
     "prompt_number": 65
    },
    {
     "cell_type": "code",
     "collapsed": false,
     "input": [
      "is(is,is)"
     ],
     "language": "python",
     "metadata": {},
     "outputs": [
      {
       "metadata": {},
       "output_type": "pyout",
       "prompt_number": 66,
       "text": [
        "true"
       ]
      }
     ],
     "prompt_number": 66
    },
    {
     "cell_type": "code",
     "collapsed": false,
     "input": [
      "a=10\n",
      "b=10\n",
      "a===b"
     ],
     "language": "python",
     "metadata": {},
     "outputs": [
      {
       "metadata": {},
       "output_type": "pyout",
       "prompt_number": 67,
       "text": [
        "true"
       ]
      }
     ],
     "prompt_number": 67
    },
    {
     "cell_type": "code",
     "collapsed": false,
     "input": [
      "a==b"
     ],
     "language": "python",
     "metadata": {},
     "outputs": [
      {
       "metadata": {},
       "output_type": "pyout",
       "prompt_number": 68,
       "text": [
        "true"
       ]
      }
     ],
     "prompt_number": 68
    },
    {
     "cell_type": "code",
     "collapsed": false,
     "input": [
      "Times"
     ],
     "language": "python",
     "metadata": {},
     "outputs": [
      {
       "metadata": {},
       "output_type": "pyout",
       "prompt_number": 72,
       "text": [
        "6-element Array{Float64,1}:\n",
        " 0.166013\n",
        " 0.166928\n",
        " 0.167207\n",
        " 0.166642\n",
        " 0.166267\n",
        " 0.166943"
       ]
      }
     ],
     "prompt_number": 72
    },
    {
     "cell_type": "code",
     "collapsed": false,
     "input": [
      "sum(Times)"
     ],
     "language": "python",
     "metadata": {},
     "outputs": [
      {
       "metadata": {},
       "output_type": "pyout",
       "prompt_number": 77,
       "text": [
        "1.0"
       ]
      }
     ],
     "prompt_number": 77
    },
    {
     "cell_type": "code",
     "collapsed": false,
     "input": [
      "big(0.2)"
     ],
     "language": "python",
     "metadata": {},
     "outputs": [
      {
       "metadata": {},
       "output_type": "pyout",
       "prompt_number": 81,
       "text": [
        "2.00000000000000011102230246251565404236316680908203125e-01 with 256 bits of precision"
       ]
      }
     ],
     "prompt_number": 81
    },
    {
     "cell_type": "code",
     "collapsed": false,
     "input": [
      "widen(0.2)"
     ],
     "language": "python",
     "metadata": {},
     "outputs": [
      {
       "metadata": {},
       "output_type": "pyout",
       "prompt_number": 79,
       "text": [
        "2.00000000000000011102230246251565404236316680908203125e-01 with 256 bits of precision"
       ]
      }
     ],
     "prompt_number": 79
    },
    {
     "cell_type": "code",
     "collapsed": false,
     "input": [
      "BigFloat(\"0.2\")"
     ],
     "language": "python",
     "metadata": {},
     "outputs": [
      {
       "metadata": {},
       "output_type": "pyout",
       "prompt_number": 80,
       "text": [
        "2.000000000000000000000000000000000000000000000000000000000000000000000000000004e-01 with 256 bits of precision"
       ]
      }
     ],
     "prompt_number": 80
    },
    {
     "cell_type": "code",
     "collapsed": false,
     "input": [
      "function histograma(datos,num_cajas)\n",
      "    num_caras=4\n",
      "    conteos=zeros(Int,num_cajas)\n",
      "    for i in 1:length(datos)\n",
      "        for caja in 1:num_cajas\n",
      "            if datos[i]==caja\n",
      "                conteos[caja]+=1\n",
      "            end\n",
      "        end\n",
      "    end\n",
      "    @show conteos\n",
      "    probabilidad=conteos/sum(conteos)\n",
      "end"
     ],
     "language": "python",
     "metadata": {},
     "outputs": [
      {
       "metadata": {},
       "output_type": "pyout",
       "prompt_number": 105,
       "text": [
        "histograma (generic function with 1 method)"
       ]
      }
     ],
     "prompt_number": 105
    },
    {
     "cell_type": "code",
     "collapsed": false,
     "input": [
      "datos=dado(6,4)"
     ],
     "language": "python",
     "metadata": {},
     "outputs": [
      {
       "metadata": {},
       "output_type": "pyout",
       "prompt_number": 106,
       "text": [
        "4-element Array{Int64,1}:\n",
        " 6\n",
        " 6\n",
        " 1\n",
        " 5"
       ]
      }
     ],
     "prompt_number": 106
    },
    {
     "cell_type": "code",
     "collapsed": false,
     "input": [
      "histograma(datos,6)"
     ],
     "language": "python",
     "metadata": {},
     "outputs": [
      {
       "output_type": "stream",
       "stream": "stdout",
       "text": [
        "conteos = [1,0,0,0,1,2]"
       ]
      },
      {
       "output_type": "stream",
       "stream": "stdout",
       "text": [
        "\n"
       ]
      },
      {
       "metadata": {},
       "output_type": "pyout",
       "prompt_number": 107,
       "text": [
        "6-element Array{Float64,1}:\n",
        " 0.25\n",
        " 0.0 \n",
        " 0.0 \n",
        " 0.0 \n",
        " 0.25\n",
        " 0.5 "
       ]
      }
     ],
     "prompt_number": 107
    },
    {
     "cell_type": "code",
     "collapsed": false,
     "input": [
      "function histogram_plot(datos)\n",
      "    plot(conteos)\n",
      "    ylim(0,1)\n",
      "    xlim(0,(histograma)+1)\n",
      "    xlabel(\"cara\")\n",
      "    ylabel(\"probabilidad\") \n",
      "end"
     ],
     "language": "python",
     "metadata": {},
     "outputs": []
    }
   ],
   "metadata": {}
  }
 ]
}