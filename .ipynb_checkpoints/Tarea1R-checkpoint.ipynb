{
 "metadata": {
  "language": "Julia",
  "name": "",
  "signature": "sha256:a38902b4fa14d6a78cad0f6b7b9f164608374e3286b126f39d8d642bb79597a8"
 },
 "nbformat": 3,
 "nbformat_minor": 0,
 "worksheets": [
  {
   "cells": [
    {
     "cell_type": "heading",
     "level": 1,
     "metadata": {},
     "source": [
      "Tarea 1"
     ]
    },
    {
     "cell_type": "heading",
     "level": 2,
     "metadata": {},
     "source": [
      "Tres cosas o m\u00e1s que me gustaron de Julia"
     ]
    },
    {
     "cell_type": "markdown",
     "metadata": {},
     "source": [
      "1. La forma de declarar vectores y matrices. Es muy simple y r\u00e1pido\n",
      "2. La velocidad de computaci\u00f3n; que se le asignen diferentes memorias a los datos dependiendo la necesidad\n",
      "3. Es software libre\n",
      "4. Facilidad de declarar loops y condicionales"
     ]
    },
    {
     "cell_type": "heading",
     "level": 2,
     "metadata": {},
     "source": [
      "Tres cosas o m\u00e1s que encuentro dif\u00edciles"
     ]
    },
    {
     "cell_type": "markdown",
     "metadata": {},
     "source": [
      "1. Estoy acostumbrado a otros lenguajes\n",
      "2. Hay poca informaci\u00f3n en l\u00ednea\n",
      "3. Problemas al instalar IJulia"
     ]
    },
    {
     "cell_type": "code",
     "collapsed": false,
     "input": [],
     "language": "python",
     "metadata": {},
     "outputs": []
    }
   ],
   "metadata": {}
  }
 ]
}