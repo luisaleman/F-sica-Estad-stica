{
 "metadata": {
  "language": "Julia",
  "name": "",
  "signature": "sha256:590359ab694502c9ef890a619afab8b763159f2854e53fc6bad1b557ee8f7c0f"
 },
 "nbformat": 3,
 "nbformat_minor": 0,
 "worksheets": [
  {
   "cells": [
    {
     "cell_type": "heading",
     "level": 1,
     "metadata": {},
     "source": [
      "Tarea 1"
     ]
    },
    {
     "cell_type": "heading",
     "level": 2,
     "metadata": {},
     "source": [
      "Tres cosas o m\u00e1s que me gustaron de Julia"
     ]
    },
    {
     "cell_type": "markdown",
     "metadata": {},
     "source": [
      "1. \u00a1Es software libre!\n",
      "2. La forma de declarar los \"tipos\" o clases de variables. En comparaci\u00f3n de C y C++, es muy sencillo declarar clases, adem\u00e1s de que no es tan r\u00edgida la estructura y sin tantos \"modismos\".\n",
      "3. Declarar vectores y matrices es muy sencillo y sin tanto c\u00f3digo, en comparaci\u00f3n de C y C++. Aunque con la librer\u00eda \"Armadillo\" , en C, declarar vectores y matrices, as\u00ed como realizar operaciones con ellas era f\u00e1cil, era un poco engorroso tener que crear el link entre el programa y la librer\u00eda (al momento de compilar, y al momento del \"#include\", etc).\n",
      "4. Me gustan los condicionales \"r\u00e1pidos\" e.g.\n",
      "        a<5 && println(\"small\")\n",
      "        a>10 || println(\"small\")\n",
      "        a==6 ? println(\"yes\") : println(\"no\")\n",
      "5. Crear gr\u00e1ficas es muy sencillo. Yo sol\u00eda generar listas o archivos .txt para luego usar alg\u00fan otro programa con la finalidad de graficar los datos."
     ]
    },
    {
     "cell_type": "heading",
     "level": 2,
     "metadata": {},
     "source": [
      "Tres cosas o m\u00e1s que encuentro dif\u00edciles"
     ]
    },
    {
     "cell_type": "markdown",
     "metadata": {},
     "source": [
      "1. No hay tanta ayuda en linea\n",
      "2. No hay tanta paqueter\u00eda desarrollada como en otros lenguajes o programas\n",
      "3. Tiene un nombre horrible\n",
      "4. Estaba acostumbrado ya a C y C++ :c\n",
      "5. A\u00fan no entiendo bien como utilizar distintos lienzos para crear varias gr\u00e1ficas al mismo tiempo y editarlas sin que estas interfieran entre s\u00ed."
     ]
    },
    {
     "cell_type": "code",
     "collapsed": false,
     "input": [],
     "language": "python",
     "metadata": {},
     "outputs": []
    }
   ],
   "metadata": {}
  }
 ]
}